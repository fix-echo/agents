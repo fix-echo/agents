{
 "cells": [
  {
   "cell_type": "markdown",
   "metadata": {},
   "source": [
    "# Welcome to the start of your adventure in Agentic AI"
   ]
  },
  {
   "cell_type": "markdown",
   "metadata": {},
   "source": [
    "<table style=\"margin: 0; text-align: left; width:100%\">\n",
    "    <tr>\n",
    "        <td style=\"width: 150px; height: 150px; vertical-align: middle;\">\n",
    "            <img src=\"../assets/stop.png\" width=\"150\" height=\"150\" style=\"display: block;\" />\n",
    "        </td>\n",
    "        <td>\n",
    "            <h2 style=\"color:#ff7800;\">Are you ready for action??</h2>\n",
    "            <span style=\"color:#ff7800;\">Have you completed all the setup steps in the <a href=\"../setup/\">setup</a> folder?<br/>\n",
    "            Have you checked out the guides in the <a href=\"../guides/01_intro.ipynb\">guides</a> folder?<br/>\n",
    "            Well in that case, you're ready!!\n",
    "            </span>\n",
    "        </td>\n",
    "    </tr>\n",
    "</table>"
   ]
  },
  {
   "cell_type": "markdown",
   "metadata": {},
   "source": [
    "<table style=\"margin: 0; text-align: left; width:100%\">\n",
    "    <tr>\n",
    "        <td style=\"width: 150px; height: 150px; vertical-align: middle;\">\n",
    "            <img src=\"../assets/tools.png\" width=\"150\" height=\"150\" style=\"display: block;\" />\n",
    "        </td>\n",
    "        <td>\n",
    "            <h2 style=\"color:#00bfff;\">This code is a live resource - keep an eye out for my updates</h2>\n",
    "            <span style=\"color:#00bfff;\">I push updates regularly. As people ask questions or have problems, I add more examples and improve explanations. As a result, the code below might not be identical to the videos, as I've added more steps and better comments. Consider this like an interactive book that accompanies the lectures.<br/><br/>\n",
    "            I try to send emails regularly with important updates related to the course. You can find this in the 'Announcements' section of Udemy in the left sidebar. You can also choose to receive my emails via your Notification Settings in Udemy. I'm respectful of your inbox and always try to add value with my emails!\n",
    "            </span>\n",
    "        </td>\n",
    "    </tr>\n",
    "</table>"
   ]
  },
  {
   "cell_type": "markdown",
   "metadata": {},
   "source": [
    "### And please do remember to contact me if I can help\n",
    "\n",
    "And I love to connect: https://www.linkedin.com/in/eddonner/\n",
    "\n",
    "\n",
    "### New to Notebooks like this one? Head over to the guides folder!\n",
    "\n",
    "Just to check you've already added the Python and Jupyter extensions to Cursor, if not already installed:\n",
    "- Open extensions (View >> extensions)\n",
    "- Search for python, and when the results show, click on the ms-python one, and Install it if not already installed\n",
    "- Search for jupyter, and when the results show, click on the Microsoft one, and Install it if not already installed  \n",
    "Then View >> Explorer to bring back the File Explorer.\n",
    "\n",
    "And then:\n",
    "1. Click where it says \"Select Kernel\" near the top right, and select the option called `.venv (Python 3.12.9)` or similar, which should be the first choice or the most prominent choice. You may need to choose \"Python Environments\" first.\n",
    "2. Click in each \"cell\" below, starting with the cell immediately below this text, and press Shift+Enter to run\n",
    "3. Enjoy!\n",
    "\n",
    "After you click \"Select Kernel\", if there is no option like `.venv (Python 3.12.9)` then please do the following:  \n",
    "1. On Mac: From the Cursor menu, choose Settings >> VS Code Settings (NOTE: be sure to select `VSCode Settings` not `Cursor Settings`);  \n",
    "On Windows PC: From the File menu, choose Preferences >> VS Code Settings(NOTE: be sure to select `VSCode Settings` not `Cursor Settings`)  \n",
    "2. In the Settings search bar, type \"venv\"  \n",
    "3. In the field \"Path to folder with a list of Virtual Environments\" put the path to the project root, like C:\\Users\\username\\projects\\agents (on a Windows PC) or /Users/username/projects/agents (on Mac or Linux).  \n",
    "And then try again.\n",
    "\n",
    "Having problems with missing Python versions in that list? Have you ever used Anaconda before? It might be interferring. Quit Cursor, bring up a new command line, and make sure that your Anaconda environment is deactivated:    \n",
    "`conda deactivate`  \n",
    "And if you still have any problems with conda and python versions, it's possible that you will need to run this too:  \n",
    "`conda config --set auto_activate_base false`  \n",
    "and then from within the Agents directory, you should be able to run `uv python list` and see the Python 3.12 version."
   ]
  },
  {
   "cell_type": "code",
   "execution_count": 1,
   "metadata": {},
   "outputs": [],
   "source": [
    "# First let's do an import\n",
    "from dotenv import load_dotenv\n"
   ]
  },
  {
   "cell_type": "code",
   "execution_count": 2,
   "metadata": {},
   "outputs": [
    {
     "data": {
      "text/plain": [
       "True"
      ]
     },
     "execution_count": 2,
     "metadata": {},
     "output_type": "execute_result"
    }
   ],
   "source": [
    "# Next it's time to load the API keys into environment variables\n",
    "\n",
    "load_dotenv(override=True)"
   ]
  },
  {
   "cell_type": "code",
   "execution_count": 5,
   "metadata": {},
   "outputs": [
    {
     "name": "stdout",
     "output_type": "stream",
     "text": [
      "OpenAI API Key exists and begins sk-tyoyb\n",
      "OpenAI API Base URL exists and begins https://\n"
     ]
    }
   ],
   "source": [
    "# Check the keys\n",
    "\n",
    "import os\n",
    "openai_api_key = os.getenv('OPENAI_API_KEY')\n",
    "openai_api_base_url = os.getenv('OPENAI_API_BASE_URL')\n",
    "\n",
    "if openai_api_key:\n",
    "    print(f\"OpenAI API Key exists and begins {openai_api_key[:8]}\")\n",
    "    print(f\"OpenAI API Base URL exists and begins {openai_api_base_url[:8]}\")\n",
    "else:\n",
    "    print(\"OpenAI API Key not set - please head to the troubleshooting guide in the setup folder\")\n",
    "    \n"
   ]
  },
  {
   "cell_type": "code",
   "execution_count": 6,
   "metadata": {},
   "outputs": [],
   "source": [
    "# And now - the all important import statement\n",
    "# If you get an import error - head over to troubleshooting guide\n",
    "\n",
    "from openai import OpenAI"
   ]
  },
  {
   "cell_type": "code",
   "execution_count": 7,
   "metadata": {},
   "outputs": [],
   "source": [
    "# And now we'll create an instance of the OpenAI class\n",
    "# If you're not sure what it means to create an instance of a class - head over to the guides folder!\n",
    "# If you get a NameError - head over to the guides folder to learn about NameErrors\n",
    "\n",
    "openai = OpenAI(base_url=openai_api_base_url, api_key=openai_api_key)"
   ]
  },
  {
   "cell_type": "code",
   "execution_count": 8,
   "metadata": {},
   "outputs": [],
   "source": [
    "# Create a list of messages in the familiar OpenAI format\n",
    "\n",
    "messages = [{\"role\": \"user\", \"content\": \"What is 2+2?\"}]"
   ]
  },
  {
   "cell_type": "code",
   "execution_count": 9,
   "metadata": {},
   "outputs": [
    {
     "name": "stdout",
     "output_type": "stream",
     "text": [
      "The sum of 2 and 2 is **4**.  \n",
      "\n",
      "If you have any other basic arithmetic questions or need help with more complex math problems, feel free to ask! 😊\n"
     ]
    }
   ],
   "source": [
    "# And now call it! Any problems, head to the troubleshooting guide\n",
    "# This uses GPT 4.1 nano, the incredibly cheap model\n",
    "\n",
    "response = openai.chat.completions.create(\n",
    "    model=\"deepseek-ai/DeepSeek-V3\",\n",
    "    messages=messages\n",
    ")\n",
    "\n",
    "print(response.choices[0].message.content)"
   ]
  },
  {
   "cell_type": "code",
   "execution_count": 10,
   "metadata": {},
   "outputs": [],
   "source": [
    "# And now - let's ask for a question:\n",
    "\n",
    "question = \"Please propose a hard, challenging question to assess someone's IQ. Respond only with the question.\"\n",
    "messages = [{\"role\": \"user\", \"content\": question}]\n"
   ]
  },
  {
   "cell_type": "code",
   "execution_count": 11,
   "metadata": {},
   "outputs": [
    {
     "name": "stdout",
     "output_type": "stream",
     "text": [
      "If you have a cube made up of 27 smaller identical cubes (a 3x3x3 cube), and you paint the outer surface of the large cube, how many of the smaller cubes will have exactly two painted faces?\n"
     ]
    }
   ],
   "source": [
    "# ask it - this uses GPT 4.1 mini, still cheap but more powerful than nano\n",
    "\n",
    "response = openai.chat.completions.create(\n",
    "    model=\"deepseek-ai/DeepSeek-V3\",\n",
    "    messages=messages\n",
    ")\n",
    "\n",
    "question = response.choices[0].message.content\n",
    "\n",
    "print(question)"
   ]
  },
  {
   "cell_type": "code",
   "execution_count": 12,
   "metadata": {},
   "outputs": [],
   "source": [
    "# form a new messages list\n",
    "messages = [{\"role\": \"user\", \"content\": question}]\n"
   ]
  },
  {
   "cell_type": "code",
   "execution_count": 13,
   "metadata": {},
   "outputs": [
    {
     "name": "stdout",
     "output_type": "stream",
     "text": [
      "Alright, let's tackle this problem step by step. I'm going to visualize a 3x3x3 cube made up of smaller cubes and figure out how many of these smaller cubes have exactly two painted faces after the outer surface is painted.\n",
      "\n",
      "### Understanding the Structure\n",
      "\n",
      "First, let's understand what a 3x3x3 cube looks like. It's a large cube where each edge is made up of 3 smaller cubes. So, along the length, width, and height, there are 3 smaller cubes each. That means:\n",
      "\n",
      "- Total number of small cubes = 3 × 3 × 3 = 27.\n",
      "\n",
      "### Painting the Outer Surface\n",
      "\n",
      "When we paint the outer surface of the large cube, the small cubes that are on the inside (not on the surface) won't get painted at all. We're interested in the small cubes that are on the surface and, more specifically, those that have exactly two painted faces.\n",
      "\n",
      "### Identifying Small Cubes with Two Painted Faces\n",
      "\n",
      "A small cube can have 0, 1, 2, or 3 painted faces:\n",
      "\n",
      "1. **0 painted faces**: These are the small cubes completely inside, not on any face. In a 3x3x3 cube, only the very center cube is unpainted (1 cube).\n",
      "   \n",
      "2. **1 painted face**: These are on the center of each face of the large cube. Each face has one such cube, and since there are 6 faces, that's 6 cubes.\n",
      "\n",
      "3. **2 painted faces**: These are on the edges where two faces meet. They have two adjacent faces painted.\n",
      "\n",
      "4. **3 painted faces**: These are the corners where three faces meet. Each corner cube has three painted faces. There are 8 corners in a cube (since a cube has 8 vertices), so 8 cubes have three painted faces.\n",
      "\n",
      "Our focus is on the small cubes with exactly two painted faces.\n",
      "\n",
      "### Calculating Two Painted Faces\n",
      "\n",
      "The small cubes with exactly two painted faces are located along the edges of the large cube, but not at the corners (since corners have three painted faces).\n",
      "\n",
      "- In a 3x3x3 cube, each edge is made up of 3 small cubes. The two at the ends are corners (3 painted faces), and the one in the middle has exactly two painted faces (the two faces that meet at that edge).\n",
      "  \n",
      "- A cube has 12 edges.\n",
      "  \n",
      "- On each edge, there's exactly 1 small cube that's not a corner (since edges have 3 cubes: two corners and one middle).\n",
      "\n",
      "So, number of small cubes with two painted faces = number of edges × 1 per edge = 12 × 1 = 12.\n",
      "\n",
      "Let me verify this:\n",
      "\n",
      "Total small cubes = 27.\n",
      "\n",
      "Number with:\n",
      "- 0 painted faces: 1 (the very center)\n",
      "- 1 painted face: 6 (one per face)\n",
      "- 2 painted faces: 12 (as calculated)\n",
      "- 3 painted faces: 8 (the corners)\n",
      "\n",
      "Adding them up: 1 + 6 + 12 + 8 = 27, which matches the total number of small cubes. So, our calculation seems correct.\n",
      "\n",
      "### Visual Confirmation\n",
      "\n",
      "It might help to visualize or sketch a layer of the cube:\n",
      "\n",
      "Imagine looking at one layer of the 3x3x3 cube (say, the top layer):\n",
      "\n",
      "```\n",
      "Top Layer:\n",
      "C - C - C\n",
      "|   |   |\n",
      "C - C - C\n",
      "|   |   |\n",
      "C - C - C\n",
      "```\n",
      "\n",
      "Here, the 'C's are small cubes. The ones at the intersections are corners (three painted faces if it's the outer layer). The ones in the middle of the edges have two painted faces (from the top and the side).\n",
      "\n",
      "In one layer (like the top), there are 4 edges, and on each edge, one middle cube has two painted faces (top and one side). Similarly, the same applies to the middle and bottom layers where the edge cubes have two painted faces (from their respective sides).\n",
      "\n",
      "Counting across all edges:\n",
      "\n",
      "Each of the 12 edges has exactly one such cube.\n",
      "\n",
      "### Final Answer\n",
      "\n",
      "After carefully considering the positions of the small cubes and counting the ones that lie exactly on the edges (excluding corners), we find that:\n",
      "\n",
      "**12 of the smaller cubes will have exactly two painted faces.**\n"
     ]
    }
   ],
   "source": [
    "# Ask it again\n",
    "\n",
    "response = openai.chat.completions.create(\n",
    "    model=\"deepseek-ai/DeepSeek-V3\",\n",
    "    messages=messages\n",
    ")\n",
    "\n",
    "answer = response.choices[0].message.content\n",
    "print(answer)"
   ]
  },
  {
   "cell_type": "code",
   "execution_count": 14,
   "metadata": {},
   "outputs": [
    {
     "data": {
      "text/markdown": [
       "Alright, let's tackle this problem step by step. I'm going to visualize a 3x3x3 cube made up of smaller cubes and figure out how many of these smaller cubes have exactly two painted faces after the outer surface is painted.\n",
       "\n",
       "### Understanding the Structure\n",
       "\n",
       "First, let's understand what a 3x3x3 cube looks like. It's a large cube where each edge is made up of 3 smaller cubes. So, along the length, width, and height, there are 3 smaller cubes each. That means:\n",
       "\n",
       "- Total number of small cubes = 3 × 3 × 3 = 27.\n",
       "\n",
       "### Painting the Outer Surface\n",
       "\n",
       "When we paint the outer surface of the large cube, the small cubes that are on the inside (not on the surface) won't get painted at all. We're interested in the small cubes that are on the surface and, more specifically, those that have exactly two painted faces.\n",
       "\n",
       "### Identifying Small Cubes with Two Painted Faces\n",
       "\n",
       "A small cube can have 0, 1, 2, or 3 painted faces:\n",
       "\n",
       "1. **0 painted faces**: These are the small cubes completely inside, not on any face. In a 3x3x3 cube, only the very center cube is unpainted (1 cube).\n",
       "   \n",
       "2. **1 painted face**: These are on the center of each face of the large cube. Each face has one such cube, and since there are 6 faces, that's 6 cubes.\n",
       "\n",
       "3. **2 painted faces**: These are on the edges where two faces meet. They have two adjacent faces painted.\n",
       "\n",
       "4. **3 painted faces**: These are the corners where three faces meet. Each corner cube has three painted faces. There are 8 corners in a cube (since a cube has 8 vertices), so 8 cubes have three painted faces.\n",
       "\n",
       "Our focus is on the small cubes with exactly two painted faces.\n",
       "\n",
       "### Calculating Two Painted Faces\n",
       "\n",
       "The small cubes with exactly two painted faces are located along the edges of the large cube, but not at the corners (since corners have three painted faces).\n",
       "\n",
       "- In a 3x3x3 cube, each edge is made up of 3 small cubes. The two at the ends are corners (3 painted faces), and the one in the middle has exactly two painted faces (the two faces that meet at that edge).\n",
       "  \n",
       "- A cube has 12 edges.\n",
       "  \n",
       "- On each edge, there's exactly 1 small cube that's not a corner (since edges have 3 cubes: two corners and one middle).\n",
       "\n",
       "So, number of small cubes with two painted faces = number of edges × 1 per edge = 12 × 1 = 12.\n",
       "\n",
       "Let me verify this:\n",
       "\n",
       "Total small cubes = 27.\n",
       "\n",
       "Number with:\n",
       "- 0 painted faces: 1 (the very center)\n",
       "- 1 painted face: 6 (one per face)\n",
       "- 2 painted faces: 12 (as calculated)\n",
       "- 3 painted faces: 8 (the corners)\n",
       "\n",
       "Adding them up: 1 + 6 + 12 + 8 = 27, which matches the total number of small cubes. So, our calculation seems correct.\n",
       "\n",
       "### Visual Confirmation\n",
       "\n",
       "It might help to visualize or sketch a layer of the cube:\n",
       "\n",
       "Imagine looking at one layer of the 3x3x3 cube (say, the top layer):\n",
       "\n",
       "```\n",
       "Top Layer:\n",
       "C - C - C\n",
       "|   |   |\n",
       "C - C - C\n",
       "|   |   |\n",
       "C - C - C\n",
       "```\n",
       "\n",
       "Here, the 'C's are small cubes. The ones at the intersections are corners (three painted faces if it's the outer layer). The ones in the middle of the edges have two painted faces (from the top and the side).\n",
       "\n",
       "In one layer (like the top), there are 4 edges, and on each edge, one middle cube has two painted faces (top and one side). Similarly, the same applies to the middle and bottom layers where the edge cubes have two painted faces (from their respective sides).\n",
       "\n",
       "Counting across all edges:\n",
       "\n",
       "Each of the 12 edges has exactly one such cube.\n",
       "\n",
       "### Final Answer\n",
       "\n",
       "After carefully considering the positions of the small cubes and counting the ones that lie exactly on the edges (excluding corners), we find that:\n",
       "\n",
       "**12 of the smaller cubes will have exactly two painted faces.**"
      ],
      "text/plain": [
       "<IPython.core.display.Markdown object>"
      ]
     },
     "metadata": {},
     "output_type": "display_data"
    }
   ],
   "source": [
    "from IPython.display import Markdown, display\n",
    "\n",
    "display(Markdown(answer))\n",
    "\n"
   ]
  },
  {
   "cell_type": "markdown",
   "metadata": {},
   "source": [
    "# Congratulations!\n",
    "\n",
    "That was a small, simple step in the direction of Agentic AI, with your new environment!\n",
    "\n",
    "Next time things get more interesting..."
   ]
  },
  {
   "cell_type": "markdown",
   "metadata": {},
   "source": [
    "<table style=\"margin: 0; text-align: left; width:100%\">\n",
    "    <tr>\n",
    "        <td style=\"width: 150px; height: 150px; vertical-align: middle;\">\n",
    "            <img src=\"../assets/exercise.png\" width=\"150\" height=\"150\" style=\"display: block;\" />\n",
    "        </td>\n",
    "        <td>\n",
    "            <h2 style=\"color:#ff7800;\">Exercise</h2>\n",
    "            <span style=\"color:#ff7800;\">Now try this commercial application:<br/>\n",
    "            First ask the LLM to pick a business area that might be worth exploring for an Agentic AI opportunity.<br/>\n",
    "            Then ask the LLM to present a pain-point in that industry - something challenging that might be ripe for an Agentic solution.<br/>\n",
    "            Finally have 3 third LLM call propose the Agentic AI solution.\n",
    "            </span>\n",
    "        </td>\n",
    "    </tr>\n",
    "</table>"
   ]
  },
  {
   "cell_type": "code",
   "execution_count": 15,
   "metadata": {},
   "outputs": [],
   "source": [
    "# First create the messages:\n",
    "\n",
    "messages = [{\"role\": \"user\", \"content\": \"Something here\"}]\n",
    "\n",
    "# Then make the first call:\n",
    "\n",
    "response = openai.chat.completions.create(\n",
    "  model=\"deepseek-ai/DeepSeek-V3\",\n",
    "  messages=messages\n",
    ")\n",
    "\n",
    "# Then read the business idea:\n",
    "\n",
    "business_idea = response.choices[0].message.content\n",
    "\n",
    "# And repeat!"
   ]
  },
  {
   "cell_type": "markdown",
   "metadata": {},
   "source": []
  }
 ],
 "metadata": {
  "kernelspec": {
   "display_name": ".venv",
   "language": "python",
   "name": "python3"
  },
  "language_info": {
   "codemirror_mode": {
    "name": "ipython",
    "version": 3
   },
   "file_extension": ".py",
   "mimetype": "text/x-python",
   "name": "python",
   "nbconvert_exporter": "python",
   "pygments_lexer": "ipython3",
   "version": "3.12.7"
  }
 },
 "nbformat": 4,
 "nbformat_minor": 2
}
